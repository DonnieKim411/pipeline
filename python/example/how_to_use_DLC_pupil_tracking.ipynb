{
 "cells": [
  {
   "cell_type": "markdown",
   "metadata": {},
   "source": [
    "This is a notebook on how to use deeplabcut (DLC) to track pupil\n",
    "\n",
    "Let's import `pupil` first (and datajoint)"
   ]
  },
  {
   "cell_type": "code",
   "execution_count": null,
   "metadata": {},
   "outputs": [],
   "source": [
    "import datajoint as dj\n",
    "from pipeline import pupil"
   ]
  },
  {
   "cell_type": "markdown",
   "metadata": {},
   "source": [
    "# Tracking the pupil"
   ]
  },
  {
   "cell_type": "markdown",
   "metadata": {},
   "source": [
    "In order to track the pupil automatically via DLC, simply call `pupil.TrackedLabelsDeeplabcut().populate(key)` where key is a dictionary with `animal_id`, `session`, and `scan_idx`"
   ]
  },
  {
   "cell_type": "code",
   "execution_count": null,
   "metadata": {},
   "outputs": [],
   "source": [
    "key = dict(animal_id=123456, session=78, scan_idx=9) # modify the values\n",
    "# pupil.TrackedLabelsDeeplabcut().populate(key)"
   ]
  },
  {
   "cell_type": "markdown",
   "metadata": {},
   "source": [
    "Once called, then you will see whole bunch of print statements including:\n",
    "\n",
    "1. Making a short video! followed by Successfully created a short video!\n",
    "2. Starting to analyze %  ..._short.avi\n",
    "3. Making a compressed and cropped video! followed by Successfully created a compressed & cropped video!\n",
    "4. Starting to analyze %  ..._compressed_cropped.avi\n",
    "\n",
    "When calling `populate`, it first makes a short video, then DLC predicts on the short video. Then, using the labels predicted on the short video, it finds cropping coordinates to obtain a bounding box around pupil area. Using the cropping coords found from the previous step, it creates a compressed and cropped video of the original video, and DLC finally predicts on the compressed and cropped video. One can actually find information on `OriginalVideo`, `ShortVideo`, and `CompressedCroppedVideo` videos"
   ]
  },
  {
   "cell_type": "code",
   "execution_count": null,
   "metadata": {},
   "outputs": [],
   "source": [
    "pupil.TrackedLabelsDeeplabcut.OriginalVideo() & key"
   ]
  },
  {
   "cell_type": "code",
   "execution_count": null,
   "metadata": {},
   "outputs": [],
   "source": [
    "pupil.TrackedLabelsDeeplabcut.ShortVideo() & key"
   ]
  },
  {
   "cell_type": "code",
   "execution_count": null,
   "metadata": {},
   "outputs": [],
   "source": [
    "pupil.TrackedLabelsDeeplabcut.CompressedCroppedVideo() & key"
   ]
  },
  {
   "cell_type": "markdown",
   "metadata": {},
   "source": [
    "For detailed information, please refer to `DLC_workflow_detailed_explanation.ipynb`"
   ]
  },
  {
   "cell_type": "markdown",
   "metadata": {},
   "source": [
    "# Fitting contour to the tracked video"
   ]
  },
  {
   "cell_type": "markdown",
   "metadata": {},
   "source": [
    "Once tracked, then we can fit contour to the tracked video"
   ]
  },
  {
   "cell_type": "code",
   "execution_count": null,
   "metadata": {},
   "outputs": [],
   "source": [
    "# pupil.FittedContourDeeplabcut().populate(key)"
   ]
  },
  {
   "cell_type": "markdown",
   "metadata": {},
   "source": [
    "When fitting, both `circle` and `ellipse` are fitted"
   ]
  },
  {
   "cell_type": "code",
   "execution_count": null,
   "metadata": {},
   "outputs": [],
   "source": [
    "pupil.FittedContourDeeplabcut.Circle & key"
   ]
  },
  {
   "cell_type": "code",
   "execution_count": null,
   "metadata": {},
   "outputs": [],
   "source": [
    "pupil.FittedContourDeeplabcut.Ellipse & key"
   ]
  },
  {
   "cell_type": "markdown",
   "metadata": {},
   "source": [
    "# Retreiving fitted info"
   ]
  },
  {
   "cell_type": "code",
   "execution_count": null,
   "metadata": {},
   "outputs": [],
   "source": [
    "r, center = (pupil_new.FittedContourDeeplabcut.Circle() & key).fetch('radius', 'center', order_by='frame_id ASC')"
   ]
  },
  {
   "cell_type": "code",
   "execution_count": null,
   "metadata": {},
   "outputs": [],
   "source": [
    "major_r, minor_r, center = (pupil_new.FittedContourDeeplabcut.Ellipse() & key).fetch('major_radius', 'minor_radius', 'center' order_by='frame_id ASC')"
   ]
  },
  {
   "cell_type": "code",
   "execution_count": null,
   "metadata": {},
   "outputs": [],
   "source": []
  }
 ],
 "metadata": {
  "kernelspec": {
   "display_name": "Python 3",
   "language": "python",
   "name": "python3"
  },
  "language_info": {
   "codemirror_mode": {
    "name": "ipython",
    "version": 3
   },
   "file_extension": ".py",
   "mimetype": "text/x-python",
   "name": "python",
   "nbconvert_exporter": "python",
   "pygments_lexer": "ipython3",
   "version": "3.6.7"
  }
 },
 "nbformat": 4,
 "nbformat_minor": 2
}
