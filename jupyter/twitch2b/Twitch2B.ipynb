{
 "cells": [
  {
   "cell_type": "markdown",
   "metadata": {},
   "source": [
    "# Computing the correct combination of channels"
   ]
  },
  {
   "cell_type": "code",
   "execution_count": null,
   "metadata": {
    "collapsed": false
   },
   "outputs": [],
   "source": [
    "import pandas as pd\n",
    "import seaborn as sns\n",
    "import matplotlib.pyplot as plt\n",
    "import numpy as np\n",
    "from scipy import integrate as integr\n",
    "import sympy as sp\n",
    "sns.set_context('notebook')\n",
    "%matplotlib inline\n",
    "sp.init_printing() \n"
   ]
  },
  {
   "cell_type": "markdown",
   "metadata": {},
   "source": [
    "# Plot Twitch2B spectra"
   ]
  },
  {
   "cell_type": "code",
   "execution_count": null,
   "metadata": {
    "collapsed": false
   },
   "outputs": [],
   "source": [
    "loaded = pd.read_csv('twitch2B_loaded.csv')\n",
    "free = pd.read_csv('twitch2B_free.csv')\n",
    "with sns.axes_style('ticks'):\n",
    "    fig, ax = plt.subplots()\n",
    "\n",
    "blue_filter = [450,500] \n",
    "green_filter = [515,565]\n",
    "x = np.linspace(np.min(free.wavelength), np.max(free.wavelength), 100)\n",
    "y_loaded = np.interp(x, loaded.wavelength, loaded.fluorescence)\n",
    "y_free   = np.interp(x, free.wavelength, free.fluorescence)\n",
    "f_loaded = lambda xx:  np.interp(xx, x, y_loaded)\n",
    "f_free = lambda xx:  np.interp(xx, x, y_free)\n",
    "    \n",
    "ax.plot(x, f_loaded(x), label='Ca++ loaded', color='dodgerblue')\n",
    "ax.plot(x, f_free(x), label='Ca++ free', color='firebrick')\n",
    "ax.fill_between(blue_filter,[0,0],[140,140],color='steelblue', label='blue filter', alpha=.3)\n",
    "ax.fill_between(green_filter,[0,0],[140,140],color='seagreen', label='green filter', alpha=.3)\n",
    "ax.legend()\n",
    "ax.set_xlabel('wavelength [nm]')\n",
    "ax.set_ylabel('fluorescence [a.u.]')\n",
    "sns.despine(fig)\n"
   ]
  },
  {
   "cell_type": "markdown",
   "metadata": {},
   "source": [
    "# Compute theoretical fluorescence for filters"
   ]
  },
  {
   "cell_type": "code",
   "execution_count": null,
   "metadata": {
    "collapsed": false
   },
   "outputs": [],
   "source": [
    "b_free = integr.quad(f_free, *blue_filter)[0]\n",
    "b_loaded = integr.quad(f_loaded, *blue_filter)[0]\n",
    "\n",
    "g_free = integr.quad(f_free, *green_filter)[0]\n",
    "g_loaded = integr.quad(f_loaded, *green_filter)[0]\n",
    "\n",
    "for name, val in zip(['b_free', 'b_loaded', 'g_free', 'g_loaded'],[b_free, b_loaded, g_free, g_loaded]):\n",
    "    print(name,'=',val)\n",
    "\n",
    "    "
   ]
  },
  {
   "cell_type": "markdown",
   "metadata": {},
   "source": [
    "# Compute the fraction of loaded fluorophores"
   ]
  },
  {
   "cell_type": "code",
   "execution_count": null,
   "metadata": {
    "collapsed": false
   },
   "outputs": [],
   "source": [
    "b_on, b_off, g_on, g_off, g, c, a, b, x, r, Fg, Fb = sp.symbols(\"b_+ b_- g_+ g_- gamma c alpha beta x r F_g F_b\")\n",
    "db, dg = sp.symbols(\"Delta_b Delta_g\")\n",
    "fb = a*c*(x*b_on + (1-x)*b_off)\n",
    "fg = b*c*(x*g_on + (1-x)*g_off)\n"
   ]
  },
  {
   "cell_type": "markdown",
   "metadata": {},
   "source": [
    "The fluorescence for the green and blue channel as a function of loaded fluorophores are given by "
   ]
  },
  {
   "cell_type": "code",
   "execution_count": null,
   "metadata": {
    "collapsed": false
   },
   "outputs": [],
   "source": [
    "fb"
   ]
  },
  {
   "cell_type": "code",
   "execution_count": null,
   "metadata": {
    "collapsed": false
   },
   "outputs": [],
   "source": [
    "fg"
   ]
  },
  {
   "cell_type": "markdown",
   "metadata": {},
   "source": [
    "where $\\alpha$ and $\\beta$ are unknown scaling factors that include the filter attenuation as well as the gain of the photomultiplier. We estimate the ratio $\\beta/\\alpha$ from the slope of a linear regression from the green into the blue channel. \n",
    "\n",
    "We use $\\Delta_g=g_+-g_-$, $\\Delta_b=b_+-b_-$, as well as $F_g$ for the measured fuorescence in the green channel. "
   ]
  },
  {
   "cell_type": "code",
   "execution_count": null,
   "metadata": {
    "collapsed": false
   },
   "outputs": [],
   "source": [
    "fb.subs([(x, sp.solve(Fg - fg, x)[0])]).simplify().collect(Fg).subs([(b_on-b_off, db), (g_on-g_off, dg)])"
   ]
  },
  {
   "cell_type": "markdown",
   "metadata": {},
   "source": [
    "Therefore $\\gamma = \\frac{\\Delta_b}{\\Delta_g\\cdot a}$ where $a$ is the slope of the computed regression. "
   ]
  },
  {
   "cell_type": "markdown",
   "metadata": {
    "collapsed": false
   },
   "source": [
    "# Compute fraction of loaded fluororphores using $\\frac{f_g - f_b}{f_b + f_g}$\n",
    "\n",
    "In the unsaturated setting, the fraction of loaded fluorophores $x$ is proportional to the concentration of Calcium. We compute $x$ from the fraction $\\frac{f_g - f_b}{f_b + f_g}$ to avoid division by zero. "
   ]
  },
  {
   "cell_type": "code",
   "execution_count": null,
   "metadata": {
    "collapsed": false
   },
   "outputs": [],
   "source": [
    "rat = ((fg-fb)/(fg+fb)).simplify().subs([(b,g),(a,1)]) # substitute gamma for beta/alpha\n",
    "rat"
   ]
  },
  {
   "cell_type": "markdown",
   "metadata": {},
   "source": [
    "Solve for $x$"
   ]
  },
  {
   "cell_type": "code",
   "execution_count": null,
   "metadata": {
    "collapsed": false
   },
   "outputs": [],
   "source": [
    "eq = r - rat\n",
    "x0 = sp.solve(eq,x)[0].collect([r,g]).subs([(b_on-b_off, db), (g_on-g_off, dg)])\n",
    "x0\n"
   ]
  }
 ],
 "metadata": {
  "kernelspec": {
   "display_name": "Python 3",
   "language": "python",
   "name": "python3"
  },
  "language_info": {
   "codemirror_mode": {
    "name": "ipython",
    "version": 3
   },
   "file_extension": ".py",
   "mimetype": "text/x-python",
   "name": "python",
   "nbconvert_exporter": "python",
   "pygments_lexer": "ipython3",
   "version": "3.4.3"
  }
 },
 "nbformat": 4,
 "nbformat_minor": 0
}
