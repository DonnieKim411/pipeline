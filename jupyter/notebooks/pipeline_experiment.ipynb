{
 "cells": [
  {
   "cell_type": "markdown",
   "metadata": {},
   "source": [
    "Previous: [Intro](pipeline_intro.ipynb) ::: Next: [pipeline_preprocess](pipeline_preprocess.ipynb)\n",
    "\n",
    "\n",
    "# Schema `experiment`"
   ]
  },
  {
   "cell_type": "markdown",
   "metadata": {},
   "source": [
    "## Setup notebook appearance "
   ]
  },
  {
   "cell_type": "code",
   "execution_count": 1,
   "metadata": {
    "collapsed": false
   },
   "outputs": [
    {
     "name": "stdout",
     "output_type": "stream",
     "text": [
      "Populating the interactive namespace from numpy and matplotlib\n"
     ]
    }
   ],
   "source": [
    "# make figures bigger\n",
    "%pylab inline\n",
    "pylab.rcParams['figure.figsize'] = (9, 7)"
   ]
  },
  {
   "cell_type": "markdown",
   "metadata": {},
   "source": [
    "## Modules = schemas \n",
    "The data pipeline consists of modules also called \"schemas\" because each module represents a schema (database) on the database server.  \n",
    "\n",
    "The first schemas you need to know are `experiment`, `psy`, and `preprocessing`.  They contain information entered during experiments and immediate preprocessing of the data."
   ]
  },
  {
   "cell_type": "markdown",
   "metadata": {},
   "source": [
    "## Schema `experiment`\n",
    "\n",
    "The `experiment` schema contains data entered manually during the experiment."
   ]
  },
  {
   "cell_type": "code",
   "execution_count": 2,
   "metadata": {
    "collapsed": false
   },
   "outputs": [
    {
     "name": "stdout",
     "output_type": "stream",
     "text": [
      "DataJoint 0.3.2 (July 18, 2016)\n",
      "Loading local settings from dj_local_conf.json\n"
     ]
    }
   ],
   "source": [
    "import datajoint as dj\n",
    "from pipeline import experiment"
   ]
  },
  {
   "cell_type": "markdown",
   "metadata": {},
   "source": [
    "You can visualize the contents of any schema by using the `ERD` (entity relationship diagram) object:"
   ]
  },
  {
   "cell_type": "code",
   "execution_count": 3,
   "metadata": {
    "collapsed": false
   },
   "outputs": [
    {
     "name": "stderr",
     "output_type": "stream",
     "text": [
      "/usr/local/lib/python3.5/site-packages/scipy/optimize/_basinhopping.py:291: RuntimeWarning: overflow encountered in exp\n",
      "  w = min(1.0, np.exp(-(energy_new - energy_old) * self.beta))\n"
     ]
    },
    {
     "data": {
      "image/png": "[encoded data removed]",
      "text/plain": [
       "<matplotlib.figure.Figure at 0x108a72a20>"
      ]
     },
     "metadata": {},
     "output_type": "display_data"
    }
   ],
   "source": [
    "dj.ERD(experiment).draw()"
   ]
  },
  {
   "cell_type": "markdown",
   "metadata": {},
   "source": [
    "Each node represents a table in the database and a class in the module.  The lines between them represents dependencies.\n",
    "\n",
    "You may preview the contents any table using its `__repr__` method:"
   ]
  },
  {
   "cell_type": "code",
   "execution_count": 4,
   "metadata": {
    "collapsed": false,
    "scrolled": true
   },
   "outputs": [
    {
     "data": {
      "text/html": [
       " <h3>imaging session</h3>\n",
       "            <div style=\"max-height:1000px;max-width:1500px;overflow:auto;\">\n",
       "            <table border=\"1\" class=\"dataframe\">\n",
       "                <thead> <tr style=\"text-align: right;\"> <th> <em>animal_id</em></th><th><em>session</em></th><th>rig</th><th>session_date</th><th>username</th><th>anesthesia</th><th>pmt_filter_set</th><th>scan_path</th><th>behavior_path</th><th>craniotomy_notes</th><th>session_notes</th><th>session_ts </th> </tr> </thead>\n",
       "                <tbody> <tr> <td>7588</td>\n",
       "<td>1</td>\n",
       "<td>2P3</td>\n",
       "<td>2016-02-08</td>\n",
       "<td>jake</td>\n",
       "<td>awake</td>\n",
       "<td>2P3 red-green A</td>\n",
       "<td>/scratch01/Two-Photon/Jake/160208</td>\n",
       "<td>/scratch01/WholeCell/jake/160208</td>\n",
       "<td></td>\n",
       "<td>;;Nestin-GCaMP6s</td>\n",
       "<td>2016-02-08 15:33:03</td></tr><tr><td>7588</td>\n",
       "<td>2</td>\n",
       "<td>2P3</td>\n",
       "<td>2016-02-09</td>\n",
       "<td>jake</td>\n",
       "<td>awake</td>\n",
       "<td>2P3 red-green A</td>\n",
       "<td>/scratch01/Two-Photon/Jake/160209</td>\n",
       "<td>/scratch01/WholeCell/jake/160209</td>\n",
       "<td></td>\n",
       "<td>;;Nestin-GCaMP6s</td>\n",
       "<td>2016-02-09 22:31:23</td></tr><tr><td>7816</td>\n",
       "<td>1</td>\n",
       "<td>2P3</td>\n",
       "<td>2016-02-10</td>\n",
       "<td>jake</td>\n",
       "<td>awake</td>\n",
       "<td>2P3 red-green A</td>\n",
       "<td>/scratch01/Two-Photon/Jake/160210</td>\n",
       "<td>/scratch01/WholeCell/jake/160210</td>\n",
       "<td></td>\n",
       "<td>;;Emx1 Cre</td>\n",
       "<td>2016-02-11 10:51:26</td></tr><tr><td>8158</td>\n",
       "<td>1</td>\n",
       "<td>2P3</td>\n",
       "<td>2016-02-14</td>\n",
       "<td>jake</td>\n",
       "<td>awake</td>\n",
       "<td>2P3 red-green A</td>\n",
       "<td>/scratch01/Two-Photon/Jake/160214</td>\n",
       "<td>/scratch01/WholeCell/jake/160214</td>\n",
       "<td></td>\n",
       "<td>;;Twitch targeted/Emx1</td>\n",
       "<td>2016-02-14 14:35:58</td></tr><tr><td>8341</td>\n",
       "<td>1</td>\n",
       "<td>2P3</td>\n",
       "<td>2016-02-15</td>\n",
       "<td>jake</td>\n",
       "<td>awake</td>\n",
       "<td>2P3 red-green A</td>\n",
       "<td>/scratch01/Two-Photon/Jake/160215</td>\n",
       "<td>/scratch01/WholeCell/jake/160215</td>\n",
       "<td></td>\n",
       "<td>;;NEstin/GCaMP</td>\n",
       "<td>2016-02-15 15:08:10</td></tr><tr><td>8487</td>\n",
       "<td>1</td>\n",
       "<td>2P3</td>\n",
       "<td>2016-02-26</td>\n",
       "<td>unknown</td>\n",
       "<td>awake</td>\n",
       "<td>2P3 red-green A</td>\n",
       "<td>/scratch01/Two-Photon/Jake/160226</td>\n",
       "<td>/scratch01/WholeCell/jake/160226</td>\n",
       "<td></td>\n",
       "<td>Emx1/ZtTA/Ai93;;</td>\n",
       "<td>2016-02-26 17:19:00</td></tr><tr><td>8623</td>\n",
       "<td>1</td>\n",
       "<td>2P3</td>\n",
       "<td>2016-02-17</td>\n",
       "<td>jake</td>\n",
       "<td>awake</td>\n",
       "<td>2P3 red-green A</td>\n",
       "<td>/scratch01/Two-Photon/Jake/160217</td>\n",
       "<td>/scratch01/WholeCell/jake/160217</td>\n",
       "<td></td>\n",
       "<td>CamKII-tTA/tetO-GCaMP6s;;CamKII-tTA/tetO-GCaMP</td>\n",
       "<td>2016-02-17 13:05:17</td> </tr> </tbody>\n",
       "            </table>\n",
       "            <p>39 tuples</p></div>\n",
       "            "
      ],
      "text/plain": [
       "*animal_id    *session    rig     session_date   username     anesthesia     pmt_filter_set scan_path      behavior_path  craniotomy_not session_notes  session_ts    \n",
       "+-----------+ +---------+ +-----+ +------------+ +----------+ +------------+ +------------+ +------------+ +------------+ +------------+ +------------+ +------------+\n",
       "7588          1           2P3     2016-02-08     jake         awake          2P3 red-green  /scratch01/Two /scratch01/Who                ;;Nestin-GCaMP 2016-02-08 15:\n",
       "7588          2           2P3     2016-02-09     jake         awake          2P3 red-green  /scratch01/Two /scratch01/Who                ;;Nestin-GCaMP 2016-02-09 22:\n",
       "7816          1           2P3     2016-02-10     jake         awake          2P3 red-green  /scratch01/Two /scratch01/Who                ;;Emx1 Cre     2016-02-11 10:\n",
       "8158          1           2P3     2016-02-14     jake         awake          2P3 red-green  /scratch01/Two /scratch01/Who                ;;Twitch targe 2016-02-14 14:\n",
       "8341          1           2P3     2016-02-15     jake         awake          2P3 red-green  /scratch01/Two /scratch01/Who                ;;NEstin/GCaMP 2016-02-15 15:\n",
       "8487          1           2P3     2016-02-26     unknown      awake          2P3 red-green  /scratch01/Two /scratch01/Who                Emx1/ZtTA/Ai93 2016-02-26 17:\n",
       "8623          1           2P3     2016-02-17     jake         awake          2P3 red-green  /scratch01/Two /scratch01/Who                CamKII-tTA/tet 2016-02-17 13:\n",
       "...\n",
       " (39 tuples)"
      ]
     },
     "execution_count": 4,
     "metadata": {},
     "output_type": "execute_result"
    }
   ],
   "source": [
    "experiment.Session()"
   ]
  },
  {
   "cell_type": "markdown",
   "metadata": {
    "collapsed": false
   },
   "source": [
    "We use the terms _table_ and _relation_ interchangeably.  A table _row_ may also be called a _tuple_.\n",
    "\n",
    "You may _restrict_ a relaiton to a subset of its rows using the `&` operator:"
   ]
  },
  {
   "cell_type": "code",
   "execution_count": 5,
   "metadata": {
    "collapsed": false
   },
   "outputs": [
    {
     "data": {
      "text/html": [
       " <h3>imaging session</h3>\n",
       "            <div style=\"max-height:1000px;max-width:1500px;overflow:auto;\">\n",
       "            <table border=\"1\" class=\"dataframe\">\n",
       "                <thead> <tr style=\"text-align: right;\"> <th> <em>animal_id</em></th><th><em>session</em></th><th>rig</th><th>session_date</th><th>username</th><th>anesthesia</th><th>pmt_filter_set</th><th>scan_path</th><th>behavior_path</th><th>craniotomy_notes</th><th>session_notes</th><th>session_ts </th> </tr> </thead>\n",
       "                <tbody> <tr> <td>9036</td>\n",
       "<td>1</td>\n",
       "<td>2P3</td>\n",
       "<td>2016-05-20</td>\n",
       "<td>jake</td>\n",
       "<td>awake</td>\n",
       "<td>2P3 red-green A</td>\n",
       "<td>/scratch03/Two-Photon/Jake/160520</td>\n",
       "<td>/scratch01/WholeCell/jake/150520</td>\n",
       "<td></td>\n",
       "<td>;;dura removed, 2 wks after craniotomy</td>\n",
       "<td>2016-05-23 17:45:21</td></tr><tr><td>9240</td>\n",
       "<td>1</td>\n",
       "<td>2P3</td>\n",
       "<td>2016-05-18</td>\n",
       "<td>jake</td>\n",
       "<td>awake</td>\n",
       "<td>2P3 red-green A</td>\n",
       "<td>/scratch01/Two-Photon/Jake/160518</td>\n",
       "<td>/scratch01/WholeCell/jake/160518</td>\n",
       "<td></td>\n",
       "<td>not sure V1 NOTE DIFFERENT FILEBASE;;CamKII-tTA/tetO-GCaMP6s 1.5 weeks after window by shan</td>\n",
       "<td>2016-05-18 18:04:12</td></tr><tr><td>10144</td>\n",
       "<td>1</td>\n",
       "<td>2P3</td>\n",
       "<td>2016-06-16</td>\n",
       "<td>jake</td>\n",
       "<td>awake</td>\n",
       "<td>2P3 red-green A</td>\n",
       "<td>/scratch03/Two-Photon/Jake/160616</td>\n",
       "<td>/scratch03/WholeCell/jake/160616</td>\n",
       "<td></td>\n",
       "<td>;;Nestin-EscTwitch</td>\n",
       "<td>2016-06-16 18:21:58</td> </tr> </tbody>\n",
       "            </table>\n",
       "            <p>3 tuples</p></div>\n",
       "            "
      ],
      "text/plain": [
       "*animal_id    *session    rig     session_date   username     anesthesia     pmt_filter_set scan_path      behavior_path  craniotomy_not session_notes  session_ts    \n",
       "+-----------+ +---------+ +-----+ +------------+ +----------+ +------------+ +------------+ +------------+ +------------+ +------------+ +------------+ +------------+\n",
       "9036          1           2P3     2016-05-20     jake         awake          2P3 red-green  /scratch03/Two /scratch01/Who                ;;dura removed 2016-05-23 17:\n",
       "9240          1           2P3     2016-05-18     jake         awake          2P3 red-green  /scratch01/Two /scratch01/Who                not sure V1 NO 2016-05-18 18:\n",
       "10144         1           2P3     2016-06-16     jake         awake          2P3 red-green  /scratch03/Two /scratch03/Who                ;;Nestin-EscTw 2016-06-16 18:\n",
       " (3 tuples)"
      ]
     },
     "execution_count": 5,
     "metadata": {},
     "output_type": "execute_result"
    }
   ],
   "source": [
    "experiment.Session() & 'session_date>\"2016-05-01\"' & 'username=\"Jake\"'"
   ]
  },
  {
   "cell_type": "markdown",
   "metadata": {},
   "source": [
    "You may restrict one relation by another:"
   ]
  },
  {
   "cell_type": "code",
   "execution_count": 6,
   "metadata": {
    "collapsed": false
   },
   "outputs": [
    {
     "data": {
      "text/html": [
       " <h3>scanimage scan info</h3>\n",
       "            <div style=\"max-height:1000px;max-width:1500px;overflow:auto;\">\n",
       "            <table border=\"1\" class=\"dataframe\">\n",
       "                <thead> <tr style=\"text-align: right;\"> <th> <em>animal_id</em></th><th><em>session</em></th><th><em>scan_idx</em></th><th>lens</th><th>brain_area</th><th>laser_wavelength</th><th>laser_power</th><th>filename</th><th>behavior_filename</th><th>depth</th><th>scan_notes</th><th>site_number</th><th>software</th><th>version</th><th>scan_ts </th> </tr> </thead>\n",
       "                <tbody> <tr> <td>9929</td>\n",
       "<td>1</td>\n",
       "<td>4</td>\n",
       "<td>25x</td>\n",
       "<td>V1</td>\n",
       "<td>920.0</td>\n",
       "<td>60.0</td>\n",
       "<td>m9929A_00043</td>\n",
       "<td></td>\n",
       "<td>310</td>\n",
       "<td></td>\n",
       "<td>0</td>\n",
       "<td>scanimage</td>\n",
       "<td>5.1</td>\n",
       "<td>2016-06-27 20:02:00</td> </tr> </tbody>\n",
       "            </table>\n",
       "            <p>1 tuples</p></div>\n",
       "            "
      ],
      "text/plain": [
       "*animal_id    *session    *scan_idx    lens     brain_area     laser_waveleng laser_power    filename       behavior_filen depth     scan_notes     site_number    software      version     scan_ts       \n",
       "+-----------+ +---------+ +----------+ +------+ +------------+ +------------+ +------------+ +------------+ +------------+ +-------+ +------------+ +------------+ +-----------+ +---------+ +------------+\n",
       "9929          1           4            25x      V1             920.0          60.0           m9929A_00043                  310                      0              scanimage     5.1         2016-06-27 20:\n",
       " (1 tuples)"
      ]
     },
     "execution_count": 6,
     "metadata": {},
     "output_type": "execute_result"
    }
   ],
   "source": [
    "recent = experiment.Session() & 'session_date>\"2016-05-01\"'\n",
    "(experiment.Scan() & 'laser_power>50') & recent"
   ]
  },
  {
   "cell_type": "markdown",
   "metadata": {},
   "source": [
    "The negative restriction uses the - operator and denotes \"all except\":"
   ]
  },
  {
   "cell_type": "code",
   "execution_count": 7,
   "metadata": {
    "collapsed": false,
    "scrolled": true
   },
   "outputs": [
    {
     "data": {
      "text/html": [
       " <h3>scanimage scan info</h3>\n",
       "            <div style=\"max-height:1000px;max-width:1500px;overflow:auto;\">\n",
       "            <table border=\"1\" class=\"dataframe\">\n",
       "                <thead> <tr style=\"text-align: right;\"> <th> <em>animal_id</em></th><th><em>session</em></th><th><em>scan_idx</em></th><th>lens</th><th>brain_area</th><th>laser_wavelength</th><th>laser_power</th><th>filename</th><th>behavior_filename</th><th>depth</th><th>scan_notes</th><th>site_number</th><th>software</th><th>version</th><th>scan_ts </th> </tr> </thead>\n",
       "                <tbody> <tr> <td>7588</td>\n",
       "<td>1</td>\n",
       "<td>1</td>\n",
       "<td>25x</td>\n",
       "<td>V1</td>\n",
       "<td>920.0</td>\n",
       "<td>60.0</td>\n",
       "<td>m7588A_00001</td>\n",
       "<td></td>\n",
       "<td>160</td>\n",
       "<td>flashing bar</td>\n",
       "<td>1</td>\n",
       "<td>scanimage</td>\n",
       "<td>5.1</td>\n",
       "<td>2016-02-08 15:35:18</td></tr><tr><td>7588</td>\n",
       "<td>1</td>\n",
       "<td>4</td>\n",
       "<td>25x</td>\n",
       "<td>V1</td>\n",
       "<td>920.0</td>\n",
       "<td>60.0</td>\n",
       "<td>m7588A_00004</td>\n",
       "<td></td>\n",
       "<td>160</td>\n",
       "<td>trippy/monet</td>\n",
       "<td>4</td>\n",
       "<td>scanimage</td>\n",
       "<td>5.1</td>\n",
       "<td>2016-02-08 16:26:05</td></tr><tr><td>7588</td>\n",
       "<td>2</td>\n",
       "<td>2</td>\n",
       "<td>25x</td>\n",
       "<td>V1</td>\n",
       "<td>920.0</td>\n",
       "<td>60.0</td>\n",
       "<td>m7588A_00002</td>\n",
       "<td></td>\n",
       "<td>260</td>\n",
       "<td>triipy/monet</td>\n",
       "<td>1</td>\n",
       "<td>scanimage</td>\n",
       "<td>5.1</td>\n",
       "<td>2016-02-09 22:32:18</td></tr><tr><td>7816</td>\n",
       "<td>1</td>\n",
       "<td>34</td>\n",
       "<td>25x</td>\n",
       "<td>V1</td>\n",
       "<td>920.0</td>\n",
       "<td>60.0</td>\n",
       "<td>m7816A_00034</td>\n",
       "<td></td>\n",
       "<td>256</td>\n",
       "<td></td>\n",
       "<td>9</td>\n",
       "<td>scanimage</td>\n",
       "<td>5.1</td>\n",
       "<td>2016-02-11 11:38:12</td> </tr> </tbody>\n",
       "            </table>\n",
       "            <p>4 tuples</p></div>\n",
       "            "
      ],
      "text/plain": [
       "*animal_id    *session    *scan_idx    lens     brain_area     laser_waveleng laser_power    filename       behavior_filen depth     scan_notes     site_number    software      version     scan_ts       \n",
       "+-----------+ +---------+ +----------+ +------+ +------------+ +------------+ +------------+ +------------+ +------------+ +-------+ +------------+ +------------+ +-----------+ +---------+ +------------+\n",
       "7588          1           1            25x      V1             920.0          60.0           m7588A_00001                  160       flashing bar   1              scanimage     5.1         2016-02-08 15:\n",
       "7588          1           4            25x      V1             920.0          60.0           m7588A_00004                  160       trippy/monet   4              scanimage     5.1         2016-02-08 16:\n",
       "7588          2           2            25x      V1             920.0          60.0           m7588A_00002                  260       triipy/monet   1              scanimage     5.1         2016-02-09 22:\n",
       "7816          1           34           25x      V1             920.0          60.0           m7816A_00034                  256                      9              scanimage     5.1         2016-02-11 11:\n",
       " (4 tuples)"
      ]
     },
     "execution_count": 7,
     "metadata": {},
     "output_type": "execute_result"
    }
   ],
   "source": [
    "experiment.Scan() - recent  & 'laser_power>=60'"
   ]
  },
  {
   "cell_type": "markdown",
   "metadata": {},
   "source": [
    "You may join two tables into one using the `*` operator.  "
   ]
  },
  {
   "cell_type": "code",
   "execution_count": 8,
   "metadata": {
    "collapsed": false,
    "scrolled": true
   },
   "outputs": [
    {
     "data": {
      "text/html": [
       " \n",
       "            <div style=\"max-height:1000px;max-width:1500px;overflow:auto;\">\n",
       "            <table border=\"1\" class=\"dataframe\">\n",
       "                <thead> <tr style=\"text-align: right;\"> <th> <em>animal_id</em></th><th><em>session</em></th><th><em>scan_idx</em></th><th>lens</th><th>brain_area</th><th>laser_wavelength</th><th>laser_power</th><th>filename</th><th>behavior_filename</th><th>depth</th><th>scan_notes</th><th>site_number</th><th>software</th><th>version</th><th>scan_ts</th><th>rig</th><th>session_date</th><th>username</th><th>anesthesia</th><th>pmt_filter_set</th><th>scan_path</th><th>behavior_path</th><th>craniotomy_notes</th><th>session_notes</th><th>session_ts </th> </tr> </thead>\n",
       "                <tbody> <tr> <td>8487</td>\n",
       "<td>1</td>\n",
       "<td>5</td>\n",
       "<td>25x</td>\n",
       "<td>V1</td>\n",
       "<td>920.0</td>\n",
       "<td>15.0</td>\n",
       "<td>m8487A_00005</td>\n",
       "<td></td>\n",
       "<td>125</td>\n",
       "<td></td>\n",
       "<td>1</td>\n",
       "<td>scanimage</td>\n",
       "<td>5.1</td>\n",
       "<td>2016-02-26 17:21:42</td>\n",
       "<td>2P3</td>\n",
       "<td>2016-02-26</td>\n",
       "<td>unknown</td>\n",
       "<td>awake</td>\n",
       "<td>2P3 red-green A</td>\n",
       "<td>/scratch01/Two-Photon/Jake/160226</td>\n",
       "<td>/scratch01/WholeCell/jake/160226</td>\n",
       "<td></td>\n",
       "<td>Emx1/ZtTA/Ai93;;</td>\n",
       "<td>2016-02-26 17:19:00</td></tr><tr><td>8487</td>\n",
       "<td>1</td>\n",
       "<td>6</td>\n",
       "<td>25x</td>\n",
       "<td>V1</td>\n",
       "<td>920.0</td>\n",
       "<td>18.0</td>\n",
       "<td>m8487A_00006</td>\n",
       "<td></td>\n",
       "<td>150</td>\n",
       "<td></td>\n",
       "<td>2</td>\n",
       "<td>scanimage</td>\n",
       "<td>5.1</td>\n",
       "<td>2016-02-26 17:52:50</td>\n",
       "<td>2P3</td>\n",
       "<td>2016-02-26</td>\n",
       "<td>unknown</td>\n",
       "<td>awake</td>\n",
       "<td>2P3 red-green A</td>\n",
       "<td>/scratch01/Two-Photon/Jake/160226</td>\n",
       "<td>/scratch01/WholeCell/jake/160226</td>\n",
       "<td></td>\n",
       "<td>Emx1/ZtTA/Ai93;;</td>\n",
       "<td>2016-02-26 17:19:00</td></tr><tr><td>8487</td>\n",
       "<td>1</td>\n",
       "<td>7</td>\n",
       "<td>25x</td>\n",
       "<td>V1</td>\n",
       "<td>920.0</td>\n",
       "<td>18.0</td>\n",
       "<td>m8487A_00007</td>\n",
       "<td></td>\n",
       "<td>150</td>\n",
       "<td></td>\n",
       "<td>2</td>\n",
       "<td>scanimage</td>\n",
       "<td>5.1</td>\n",
       "<td>2016-02-26 17:53:14</td>\n",
       "<td>2P3</td>\n",
       "<td>2016-02-26</td>\n",
       "<td>unknown</td>\n",
       "<td>awake</td>\n",
       "<td>2P3 red-green A</td>\n",
       "<td>/scratch01/Two-Photon/Jake/160226</td>\n",
       "<td>/scratch01/WholeCell/jake/160226</td>\n",
       "<td></td>\n",
       "<td>Emx1/ZtTA/Ai93;;</td>\n",
       "<td>2016-02-26 17:19:00</td></tr><tr><td>8487</td>\n",
       "<td>1</td>\n",
       "<td>8</td>\n",
       "<td>25x</td>\n",
       "<td>V1</td>\n",
       "<td>920.0</td>\n",
       "<td>18.0</td>\n",
       "<td>m8487A_00008</td>\n",
       "<td></td>\n",
       "<td>175</td>\n",
       "<td></td>\n",
       "<td>3</td>\n",
       "<td>scanimage</td>\n",
       "<td>5.1</td>\n",
       "<td>2016-02-26 19:30:37</td>\n",
       "<td>2P3</td>\n",
       "<td>2016-02-26</td>\n",
       "<td>unknown</td>\n",
       "<td>awake</td>\n",
       "<td>2P3 red-green A</td>\n",
       "<td>/scratch01/Two-Photon/Jake/160226</td>\n",
       "<td>/scratch01/WholeCell/jake/160226</td>\n",
       "<td></td>\n",
       "<td>Emx1/ZtTA/Ai93;;</td>\n",
       "<td>2016-02-26 17:19:00</td></tr><tr><td>8487</td>\n",
       "<td>1</td>\n",
       "<td>9</td>\n",
       "<td>25x</td>\n",
       "<td>V1</td>\n",
       "<td>920.0</td>\n",
       "<td>21.0</td>\n",
       "<td>m8487A_00009</td>\n",
       "<td></td>\n",
       "<td>200</td>\n",
       "<td></td>\n",
       "<td>4</td>\n",
       "<td>scanimage</td>\n",
       "<td>5.1</td>\n",
       "<td>2016-02-26 19:30:52</td>\n",
       "<td>2P3</td>\n",
       "<td>2016-02-26</td>\n",
       "<td>unknown</td>\n",
       "<td>awake</td>\n",
       "<td>2P3 red-green A</td>\n",
       "<td>/scratch01/Two-Photon/Jake/160226</td>\n",
       "<td>/scratch01/WholeCell/jake/160226</td>\n",
       "<td></td>\n",
       "<td>Emx1/ZtTA/Ai93;;</td>\n",
       "<td>2016-02-26 17:19:00</td></tr><tr><td>8487</td>\n",
       "<td>1</td>\n",
       "<td>10</td>\n",
       "<td>25x</td>\n",
       "<td>V1</td>\n",
       "<td>920.0</td>\n",
       "<td>24.0</td>\n",
       "<td>m8487A_00010</td>\n",
       "<td></td>\n",
       "<td>225</td>\n",
       "<td></td>\n",
       "<td>5</td>\n",
       "<td>scanimage</td>\n",
       "<td>5.1</td>\n",
       "<td>2016-02-26 19:36:31</td>\n",
       "<td>2P3</td>\n",
       "<td>2016-02-26</td>\n",
       "<td>unknown</td>\n",
       "<td>awake</td>\n",
       "<td>2P3 red-green A</td>\n",
       "<td>/scratch01/Two-Photon/Jake/160226</td>\n",
       "<td>/scratch01/WholeCell/jake/160226</td>\n",
       "<td></td>\n",
       "<td>Emx1/ZtTA/Ai93;;</td>\n",
       "<td>2016-02-26 17:19:00</td></tr><tr><td>8487</td>\n",
       "<td>1</td>\n",
       "<td>11</td>\n",
       "<td>25x</td>\n",
       "<td>V1</td>\n",
       "<td>920.0</td>\n",
       "<td>28.0</td>\n",
       "<td>m8487A_00011</td>\n",
       "<td></td>\n",
       "<td>250</td>\n",
       "<td>does not open its eye much</td>\n",
       "<td>6</td>\n",
       "<td>scanimage</td>\n",
       "<td>5.1</td>\n",
       "<td>2016-02-26 20:21:50</td>\n",
       "<td>2P3</td>\n",
       "<td>2016-02-26</td>\n",
       "<td>unknown</td>\n",
       "<td>awake</td>\n",
       "<td>2P3 red-green A</td>\n",
       "<td>/scratch01/Two-Photon/Jake/160226</td>\n",
       "<td>/scratch01/WholeCell/jake/160226</td>\n",
       "<td></td>\n",
       "<td>Emx1/ZtTA/Ai93;;</td>\n",
       "<td>2016-02-26 17:19:00</td> </tr> </tbody>\n",
       "            </table>\n",
       "            <p>11 tuples</p></div>\n",
       "            "
      ],
      "text/plain": [
       "*animal_id    *session    *scan_idx    lens     brain_area     laser_waveleng laser_power    filename       behavior_filen depth     scan_notes     site_number    software      version     scan_ts        rig     session_date   username     anesthesia     pmt_filter_set scan_path      behavior_path  craniotomy_not session_notes  session_ts    \n",
       "+-----------+ +---------+ +----------+ +------+ +------------+ +------------+ +------------+ +------------+ +------------+ +-------+ +------------+ +------------+ +-----------+ +---------+ +------------+ +-----+ +------------+ +----------+ +------------+ +------------+ +------------+ +------------+ +------------+ +------------+ +------------+\n",
       "8487          1           5            25x      V1             920.0          15.0           m8487A_00005                  125                      1              scanimage     5.1         2016-02-26 17: 2P3     2016-02-26     unknown      awake          2P3 red-green  /scratch01/Two /scratch01/Who                Emx1/ZtTA/Ai93 2016-02-26 17:\n",
       "8487          1           6            25x      V1             920.0          18.0           m8487A_00006                  150                      2              scanimage     5.1         2016-02-26 17: 2P3     2016-02-26     unknown      awake          2P3 red-green  /scratch01/Two /scratch01/Who                Emx1/ZtTA/Ai93 2016-02-26 17:\n",
       "8487          1           7            25x      V1             920.0          18.0           m8487A_00007                  150                      2              scanimage     5.1         2016-02-26 17: 2P3     2016-02-26     unknown      awake          2P3 red-green  /scratch01/Two /scratch01/Who                Emx1/ZtTA/Ai93 2016-02-26 17:\n",
       "8487          1           8            25x      V1             920.0          18.0           m8487A_00008                  175                      3              scanimage     5.1         2016-02-26 19: 2P3     2016-02-26     unknown      awake          2P3 red-green  /scratch01/Two /scratch01/Who                Emx1/ZtTA/Ai93 2016-02-26 17:\n",
       "8487          1           9            25x      V1             920.0          21.0           m8487A_00009                  200                      4              scanimage     5.1         2016-02-26 19: 2P3     2016-02-26     unknown      awake          2P3 red-green  /scratch01/Two /scratch01/Who                Emx1/ZtTA/Ai93 2016-02-26 17:\n",
       "8487          1           10           25x      V1             920.0          24.0           m8487A_00010                  225                      5              scanimage     5.1         2016-02-26 19: 2P3     2016-02-26     unknown      awake          2P3 red-green  /scratch01/Two /scratch01/Who                Emx1/ZtTA/Ai93 2016-02-26 17:\n",
       "8487          1           11           25x      V1             920.0          28.0           m8487A_00011                  250       does not open  6              scanimage     5.1         2016-02-26 20: 2P3     2016-02-26     unknown      awake          2P3 red-green  /scratch01/Two /scratch01/Who                Emx1/ZtTA/Ai93 2016-02-26 17:\n",
       "...\n",
       " (11 tuples)"
      ]
     },
     "execution_count": 8,
     "metadata": {},
     "output_type": "execute_result"
    }
   ],
   "source": [
    "scans = experiment.Scan()*experiment.Session() & (experiment.Session.Fluorophore() & dict(fluorophore=\"GCaMP6f\"))\n",
    "scans"
   ]
  },
  {
   "cell_type": "markdown",
   "metadata": {},
   "source": [
    "Joins and restrictions with other relations are meaningful even when they are not directly linked in the ERD. As long as there is a path from table `A` to `B` along solid lines, the join `A * B` or the restriction `A & B` is meaningful.  \n",
    "\n",
    "Solid lines represent prime dependencies, which propagate identifying information down the hiearachy. "
   ]
  },
  {
   "cell_type": "markdown",
   "metadata": {},
   "source": [
    "You can see the descriptions of all attributes using the heading property:"
   ]
  },
  {
   "cell_type": "code",
   "execution_count": 9,
   "metadata": {
    "collapsed": false,
    "scrolled": true
   },
   "outputs": [
    {
     "data": {
      "text/plain": [
       "animal_id            : int                          # id number\n",
       "session              : smallint                     # session index for the mouse\n",
       "scan_idx             : smallint                     # number of TIFF stack file\n",
       "---\n",
       "lens                 : char(4)                      # objective lens\n",
       "brain_area           : char(12)                     # short name for cortical area\n",
       "laser_wavelength     : float                        # (nm)\n",
       "laser_power          : float                        # (mW) to brain\n",
       "filename             : varchar(255)                 # file base name\n",
       "behavior_filename=\"\" : varchar(255)                 # pupil movies, whisking, locomotion, etc.\n",
       "depth=0              : int                          # manual depth measurement\n",
       "scan_notes           : varchar(4095)                # free-notes\n",
       "site_number=0        : tinyint                      # site number\n",
       "software             : varchar(20)                  # name of the software\n",
       "version              : char(10)                     # version\n",
       "scan_ts=CURRENT_TIMESTAMP : timestamp                    # don't edit\n",
       "rig                  : char(4)                      # multiphoton imaging setup\n",
       "session_date         : date                         # date\n",
       "username             : char(12)                     # lab member\n",
       "anesthesia           : char(20)                     # anesthesia short name\n",
       "pmt_filter_set       : varchar(16)                  # short name of microscope filter set\n",
       "scan_path            : varchar(255)                 # file path for TIFF stacks\n",
       "behavior_path=\"\"     : varchar(255)                 # pupil movies, whisking, locomotion, etc.\n",
       "craniotomy_notes=\"\"  : varchar(4095)                # free-text notes\n",
       "session_notes=\"\"     : varchar(4095)                # free-text notes\n",
       "session_ts=CURRENT_TIMESTAMP : timestamp                    # automatic"
      ]
     },
     "execution_count": 9,
     "metadata": {},
     "output_type": "execute_result"
    }
   ],
   "source": [
    "scans.heading"
   ]
  },
  {
   "cell_type": "markdown",
   "metadata": {},
   "source": [
    "When the desired query is formed, the data may be retrived using the `fetch` method:"
   ]
  },
  {
   "cell_type": "code",
   "execution_count": 10,
   "metadata": {
    "collapsed": false,
    "scrolled": true
   },
   "outputs": [
    {
     "data": {
      "text/plain": [
       "array([ (8487, 1, 5, '25x', 'V1', 920.0, 15.0, 'm8487A_00005', '', 125, '', 1, 'scanimage', '5.1', datetime.datetime(2016, 2, 26, 17, 21, 42), '2P3', datetime.date(2016, 2, 26), 'unknown', 'awake', '2P3 red-green A', '/scratch01/Two-Photon/Jake/160226', '/scratch01/WholeCell/jake/160226', '', 'Emx1/ZtTA/Ai93;;', datetime.datetime(2016, 2, 26, 17, 19)),\n",
       "       (8487, 1, 6, '25x', 'V1', 920.0, 18.0, 'm8487A_00006', '', 150, '', 2, 'scanimage', '5.1', datetime.datetime(2016, 2, 26, 17, 52, 50), '2P3', datetime.date(2016, 2, 26), 'unknown', 'awake', '2P3 red-green A', '/scratch01/Two-Photon/Jake/160226', '/scratch01/WholeCell/jake/160226', '', 'Emx1/ZtTA/Ai93;;', datetime.datetime(2016, 2, 26, 17, 19)),\n",
       "       (8487, 1, 7, '25x', 'V1', 920.0, 18.0, 'm8487A_00007', '', 150, '', 2, 'scanimage', '5.1', datetime.datetime(2016, 2, 26, 17, 53, 14), '2P3', datetime.date(2016, 2, 26), 'unknown', 'awake', '2P3 red-green A', '/scratch01/Two-Photon/Jake/160226', '/scratch01/WholeCell/jake/160226', '', 'Emx1/ZtTA/Ai93;;', datetime.datetime(2016, 2, 26, 17, 19)),\n",
       "       (8487, 1, 8, '25x', 'V1', 920.0, 18.0, 'm8487A_00008', '', 175, '', 3, 'scanimage', '5.1', datetime.datetime(2016, 2, 26, 19, 30, 37), '2P3', datetime.date(2016, 2, 26), 'unknown', 'awake', '2P3 red-green A', '/scratch01/Two-Photon/Jake/160226', '/scratch01/WholeCell/jake/160226', '', 'Emx1/ZtTA/Ai93;;', datetime.datetime(2016, 2, 26, 17, 19)),\n",
       "       (8487, 1, 9, '25x', 'V1', 920.0, 21.0, 'm8487A_00009', '', 200, '', 4, 'scanimage', '5.1', datetime.datetime(2016, 2, 26, 19, 30, 52), '2P3', datetime.date(2016, 2, 26), 'unknown', 'awake', '2P3 red-green A', '/scratch01/Two-Photon/Jake/160226', '/scratch01/WholeCell/jake/160226', '', 'Emx1/ZtTA/Ai93;;', datetime.datetime(2016, 2, 26, 17, 19)),\n",
       "       (8487, 1, 10, '25x', 'V1', 920.0, 24.0, 'm8487A_00010', '', 225, '', 5, 'scanimage', '5.1', datetime.datetime(2016, 2, 26, 19, 36, 31), '2P3', datetime.date(2016, 2, 26), 'unknown', 'awake', '2P3 red-green A', '/scratch01/Two-Photon/Jake/160226', '/scratch01/WholeCell/jake/160226', '', 'Emx1/ZtTA/Ai93;;', datetime.datetime(2016, 2, 26, 17, 19)),\n",
       "       (8487, 1, 11, '25x', 'V1', 920.0, 28.0, 'm8487A_00011', '', 250, 'does not open its eye much', 6, 'scanimage', '5.1', datetime.datetime(2016, 2, 26, 20, 21, 50), '2P3', datetime.date(2016, 2, 26), 'unknown', 'awake', '2P3 red-green A', '/scratch01/Two-Photon/Jake/160226', '/scratch01/WholeCell/jake/160226', '', 'Emx1/ZtTA/Ai93;;', datetime.datetime(2016, 2, 26, 17, 19)),\n",
       "       (8487, 1, 12, '25x', 'V1', 920.0, 32.0, 'm8487A_00012', '', 275, '', 7, 'scanimage', '5.1', datetime.datetime(2016, 2, 26, 20, 45, 7), '2P3', datetime.date(2016, 2, 26), 'unknown', 'awake', '2P3 red-green A', '/scratch01/Two-Photon/Jake/160226', '/scratch01/WholeCell/jake/160226', '', 'Emx1/ZtTA/Ai93;;', datetime.datetime(2016, 2, 26, 17, 19)),\n",
       "       (8487, 1, 13, '25x', 'V1', 920.0, 36.0, 'm8487A_00013', '', 300, '', 8, 'scanimage', '5.1', datetime.datetime(2016, 2, 26, 21, 17, 30), '2P3', datetime.date(2016, 2, 26), 'unknown', 'awake', '2P3 red-green A', '/scratch01/Two-Photon/Jake/160226', '/scratch01/WholeCell/jake/160226', '', 'Emx1/ZtTA/Ai93;;', datetime.datetime(2016, 2, 26, 17, 19)),\n",
       "       (8487, 1, 14, '25x', 'V1', 920.0, 40.0, 'm8487A_00014', '', 325, '', 9, 'scanimage', '5.1', datetime.datetime(2016, 2, 26, 21, 57, 31), '2P3', datetime.date(2016, 2, 26), 'unknown', 'awake', '2P3 red-green A', '/scratch01/Two-Photon/Jake/160226', '/scratch01/WholeCell/jake/160226', '', 'Emx1/ZtTA/Ai93;;', datetime.datetime(2016, 2, 26, 17, 19)),\n",
       "       (9036, 1, 3, '25x', 'unknown', 920.0, 35.0, 'm9036A_00003', '', 180, 'V1? mad max and stills', 1, 'scanimage', '5.1', datetime.datetime(2016, 5, 23, 17, 46, 39), '2P3', datetime.date(2016, 5, 20), 'jake', 'awake', '2P3 red-green A', '/scratch03/Two-Photon/Jake/160520', '/scratch01/WholeCell/jake/150520', '', ';;dura removed, 2 wks after craniotomy', datetime.datetime(2016, 5, 23, 17, 45, 21))], \n",
       "      dtype=[('animal_id', '<i4'), ('session', '<i2'), ('scan_idx', '<i2'), ('lens', 'O'), ('brain_area', 'O'), ('laser_wavelength', '<f4'), ('laser_power', '<f4'), ('filename', 'O'), ('behavior_filename', 'O'), ('depth', '<i4'), ('scan_notes', 'O'), ('site_number', 'i1'), ('software', 'O'), ('version', 'O'), ('scan_ts', 'O'), ('rig', 'O'), ('session_date', 'O'), ('username', 'O'), ('anesthesia', 'O'), ('pmt_filter_set', 'O'), ('scan_path', 'O'), ('behavior_path', 'O'), ('craniotomy_notes', 'O'), ('session_notes', 'O'), ('session_ts', 'O')])"
      ]
     },
     "execution_count": 10,
     "metadata": {},
     "output_type": "execute_result"
    }
   ],
   "source": [
    "scans.fetch()"
   ]
  },
  {
   "cell_type": "markdown",
   "metadata": {},
   "source": [
    "Or as a list of dicts,"
   ]
  },
  {
   "cell_type": "code",
   "execution_count": 11,
   "metadata": {
    "collapsed": false
   },
   "outputs": [
    {
     "data": {
      "text/plain": [
       "[OrderedDict([('animal_id', 8487),\n",
       "              ('session', 1),\n",
       "              ('scan_idx', 5),\n",
       "              ('lens', '25x'),\n",
       "              ('brain_area', 'V1'),\n",
       "              ('laser_wavelength', 920.0),\n",
       "              ('laser_power', 15.0),\n",
       "              ('filename', 'm8487A_00005'),\n",
       "              ('behavior_filename', ''),\n",
       "              ('depth', 125),\n",
       "              ('scan_notes', ''),\n",
       "              ('site_number', 1),\n",
       "              ('software', 'scanimage'),\n",
       "              ('version', '5.1'),\n",
       "              ('scan_ts', datetime.datetime(2016, 2, 26, 17, 21, 42)),\n",
       "              ('rig', '2P3'),\n",
       "              ('session_date', datetime.date(2016, 2, 26)),\n",
       "              ('username', 'unknown'),\n",
       "              ('anesthesia', 'awake'),\n",
       "              ('pmt_filter_set', '2P3 red-green A'),\n",
       "              ('scan_path', '/scratch01/Two-Photon/Jake/160226'),\n",
       "              ('behavior_path', '/scratch01/WholeCell/jake/160226'),\n",
       "              ('craniotomy_notes', ''),\n",
       "              ('session_notes', 'Emx1/ZtTA/Ai93;;'),\n",
       "              ('session_ts', datetime.datetime(2016, 2, 26, 17, 19))]),\n",
       " OrderedDict([('animal_id', 8487),\n",
       "              ('session', 1),\n",
       "              ('scan_idx', 6),\n",
       "              ('lens', '25x'),\n",
       "              ('brain_area', 'V1'),\n",
       "              ('laser_wavelength', 920.0),\n",
       "              ('laser_power', 18.0),\n",
       "              ('filename', 'm8487A_00006'),\n",
       "              ('behavior_filename', ''),\n",
       "              ('depth', 150),\n",
       "              ('scan_notes', ''),\n",
       "              ('site_number', 2),\n",
       "              ('software', 'scanimage'),\n",
       "              ('version', '5.1'),\n",
       "              ('scan_ts', datetime.datetime(2016, 2, 26, 17, 52, 50)),\n",
       "              ('rig', '2P3'),\n",
       "              ('session_date', datetime.date(2016, 2, 26)),\n",
       "              ('username', 'unknown'),\n",
       "              ('anesthesia', 'awake'),\n",
       "              ('pmt_filter_set', '2P3 red-green A'),\n",
       "              ('scan_path', '/scratch01/Two-Photon/Jake/160226'),\n",
       "              ('behavior_path', '/scratch01/WholeCell/jake/160226'),\n",
       "              ('craniotomy_notes', ''),\n",
       "              ('session_notes', 'Emx1/ZtTA/Ai93;;'),\n",
       "              ('session_ts', datetime.datetime(2016, 2, 26, 17, 19))]),\n",
       " OrderedDict([('animal_id', 8487),\n",
       "              ('session', 1),\n",
       "              ('scan_idx', 7),\n",
       "              ('lens', '25x'),\n",
       "              ('brain_area', 'V1'),\n",
       "              ('laser_wavelength', 920.0),\n",
       "              ('laser_power', 18.0),\n",
       "              ('filename', 'm8487A_00007'),\n",
       "              ('behavior_filename', ''),\n",
       "              ('depth', 150),\n",
       "              ('scan_notes', ''),\n",
       "              ('site_number', 2),\n",
       "              ('software', 'scanimage'),\n",
       "              ('version', '5.1'),\n",
       "              ('scan_ts', datetime.datetime(2016, 2, 26, 17, 53, 14)),\n",
       "              ('rig', '2P3'),\n",
       "              ('session_date', datetime.date(2016, 2, 26)),\n",
       "              ('username', 'unknown'),\n",
       "              ('anesthesia', 'awake'),\n",
       "              ('pmt_filter_set', '2P3 red-green A'),\n",
       "              ('scan_path', '/scratch01/Two-Photon/Jake/160226'),\n",
       "              ('behavior_path', '/scratch01/WholeCell/jake/160226'),\n",
       "              ('craniotomy_notes', ''),\n",
       "              ('session_notes', 'Emx1/ZtTA/Ai93;;'),\n",
       "              ('session_ts', datetime.datetime(2016, 2, 26, 17, 19))]),\n",
       " OrderedDict([('animal_id', 8487),\n",
       "              ('session', 1),\n",
       "              ('scan_idx', 8),\n",
       "              ('lens', '25x'),\n",
       "              ('brain_area', 'V1'),\n",
       "              ('laser_wavelength', 920.0),\n",
       "              ('laser_power', 18.0),\n",
       "              ('filename', 'm8487A_00008'),\n",
       "              ('behavior_filename', ''),\n",
       "              ('depth', 175),\n",
       "              ('scan_notes', ''),\n",
       "              ('site_number', 3),\n",
       "              ('software', 'scanimage'),\n",
       "              ('version', '5.1'),\n",
       "              ('scan_ts', datetime.datetime(2016, 2, 26, 19, 30, 37)),\n",
       "              ('rig', '2P3'),\n",
       "              ('session_date', datetime.date(2016, 2, 26)),\n",
       "              ('username', 'unknown'),\n",
       "              ('anesthesia', 'awake'),\n",
       "              ('pmt_filter_set', '2P3 red-green A'),\n",
       "              ('scan_path', '/scratch01/Two-Photon/Jake/160226'),\n",
       "              ('behavior_path', '/scratch01/WholeCell/jake/160226'),\n",
       "              ('craniotomy_notes', ''),\n",
       "              ('session_notes', 'Emx1/ZtTA/Ai93;;'),\n",
       "              ('session_ts', datetime.datetime(2016, 2, 26, 17, 19))]),\n",
       " OrderedDict([('animal_id', 8487),\n",
       "              ('session', 1),\n",
       "              ('scan_idx', 9),\n",
       "              ('lens', '25x'),\n",
       "              ('brain_area', 'V1'),\n",
       "              ('laser_wavelength', 920.0),\n",
       "              ('laser_power', 21.0),\n",
       "              ('filename', 'm8487A_00009'),\n",
       "              ('behavior_filename', ''),\n",
       "              ('depth', 200),\n",
       "              ('scan_notes', ''),\n",
       "              ('site_number', 4),\n",
       "              ('software', 'scanimage'),\n",
       "              ('version', '5.1'),\n",
       "              ('scan_ts', datetime.datetime(2016, 2, 26, 19, 30, 52)),\n",
       "              ('rig', '2P3'),\n",
       "              ('session_date', datetime.date(2016, 2, 26)),\n",
       "              ('username', 'unknown'),\n",
       "              ('anesthesia', 'awake'),\n",
       "              ('pmt_filter_set', '2P3 red-green A'),\n",
       "              ('scan_path', '/scratch01/Two-Photon/Jake/160226'),\n",
       "              ('behavior_path', '/scratch01/WholeCell/jake/160226'),\n",
       "              ('craniotomy_notes', ''),\n",
       "              ('session_notes', 'Emx1/ZtTA/Ai93;;'),\n",
       "              ('session_ts', datetime.datetime(2016, 2, 26, 17, 19))]),\n",
       " OrderedDict([('animal_id', 8487),\n",
       "              ('session', 1),\n",
       "              ('scan_idx', 10),\n",
       "              ('lens', '25x'),\n",
       "              ('brain_area', 'V1'),\n",
       "              ('laser_wavelength', 920.0),\n",
       "              ('laser_power', 24.0),\n",
       "              ('filename', 'm8487A_00010'),\n",
       "              ('behavior_filename', ''),\n",
       "              ('depth', 225),\n",
       "              ('scan_notes', ''),\n",
       "              ('site_number', 5),\n",
       "              ('software', 'scanimage'),\n",
       "              ('version', '5.1'),\n",
       "              ('scan_ts', datetime.datetime(2016, 2, 26, 19, 36, 31)),\n",
       "              ('rig', '2P3'),\n",
       "              ('session_date', datetime.date(2016, 2, 26)),\n",
       "              ('username', 'unknown'),\n",
       "              ('anesthesia', 'awake'),\n",
       "              ('pmt_filter_set', '2P3 red-green A'),\n",
       "              ('scan_path', '/scratch01/Two-Photon/Jake/160226'),\n",
       "              ('behavior_path', '/scratch01/WholeCell/jake/160226'),\n",
       "              ('craniotomy_notes', ''),\n",
       "              ('session_notes', 'Emx1/ZtTA/Ai93;;'),\n",
       "              ('session_ts', datetime.datetime(2016, 2, 26, 17, 19))]),\n",
       " OrderedDict([('animal_id', 8487),\n",
       "              ('session', 1),\n",
       "              ('scan_idx', 11),\n",
       "              ('lens', '25x'),\n",
       "              ('brain_area', 'V1'),\n",
       "              ('laser_wavelength', 920.0),\n",
       "              ('laser_power', 28.0),\n",
       "              ('filename', 'm8487A_00011'),\n",
       "              ('behavior_filename', ''),\n",
       "              ('depth', 250),\n",
       "              ('scan_notes', 'does not open its eye much'),\n",
       "              ('site_number', 6),\n",
       "              ('software', 'scanimage'),\n",
       "              ('version', '5.1'),\n",
       "              ('scan_ts', datetime.datetime(2016, 2, 26, 20, 21, 50)),\n",
       "              ('rig', '2P3'),\n",
       "              ('session_date', datetime.date(2016, 2, 26)),\n",
       "              ('username', 'unknown'),\n",
       "              ('anesthesia', 'awake'),\n",
       "              ('pmt_filter_set', '2P3 red-green A'),\n",
       "              ('scan_path', '/scratch01/Two-Photon/Jake/160226'),\n",
       "              ('behavior_path', '/scratch01/WholeCell/jake/160226'),\n",
       "              ('craniotomy_notes', ''),\n",
       "              ('session_notes', 'Emx1/ZtTA/Ai93;;'),\n",
       "              ('session_ts', datetime.datetime(2016, 2, 26, 17, 19))]),\n",
       " OrderedDict([('animal_id', 8487),\n",
       "              ('session', 1),\n",
       "              ('scan_idx', 12),\n",
       "              ('lens', '25x'),\n",
       "              ('brain_area', 'V1'),\n",
       "              ('laser_wavelength', 920.0),\n",
       "              ('laser_power', 32.0),\n",
       "              ('filename', 'm8487A_00012'),\n",
       "              ('behavior_filename', ''),\n",
       "              ('depth', 275),\n",
       "              ('scan_notes', ''),\n",
       "              ('site_number', 7),\n",
       "              ('software', 'scanimage'),\n",
       "              ('version', '5.1'),\n",
       "              ('scan_ts', datetime.datetime(2016, 2, 26, 20, 45, 7)),\n",
       "              ('rig', '2P3'),\n",
       "              ('session_date', datetime.date(2016, 2, 26)),\n",
       "              ('username', 'unknown'),\n",
       "              ('anesthesia', 'awake'),\n",
       "              ('pmt_filter_set', '2P3 red-green A'),\n",
       "              ('scan_path', '/scratch01/Two-Photon/Jake/160226'),\n",
       "              ('behavior_path', '/scratch01/WholeCell/jake/160226'),\n",
       "              ('craniotomy_notes', ''),\n",
       "              ('session_notes', 'Emx1/ZtTA/Ai93;;'),\n",
       "              ('session_ts', datetime.datetime(2016, 2, 26, 17, 19))]),\n",
       " OrderedDict([('animal_id', 8487),\n",
       "              ('session', 1),\n",
       "              ('scan_idx', 13),\n",
       "              ('lens', '25x'),\n",
       "              ('brain_area', 'V1'),\n",
       "              ('laser_wavelength', 920.0),\n",
       "              ('laser_power', 36.0),\n",
       "              ('filename', 'm8487A_00013'),\n",
       "              ('behavior_filename', ''),\n",
       "              ('depth', 300),\n",
       "              ('scan_notes', ''),\n",
       "              ('site_number', 8),\n",
       "              ('software', 'scanimage'),\n",
       "              ('version', '5.1'),\n",
       "              ('scan_ts', datetime.datetime(2016, 2, 26, 21, 17, 30)),\n",
       "              ('rig', '2P3'),\n",
       "              ('session_date', datetime.date(2016, 2, 26)),\n",
       "              ('username', 'unknown'),\n",
       "              ('anesthesia', 'awake'),\n",
       "              ('pmt_filter_set', '2P3 red-green A'),\n",
       "              ('scan_path', '/scratch01/Two-Photon/Jake/160226'),\n",
       "              ('behavior_path', '/scratch01/WholeCell/jake/160226'),\n",
       "              ('craniotomy_notes', ''),\n",
       "              ('session_notes', 'Emx1/ZtTA/Ai93;;'),\n",
       "              ('session_ts', datetime.datetime(2016, 2, 26, 17, 19))]),\n",
       " OrderedDict([('animal_id', 8487),\n",
       "              ('session', 1),\n",
       "              ('scan_idx', 14),\n",
       "              ('lens', '25x'),\n",
       "              ('brain_area', 'V1'),\n",
       "              ('laser_wavelength', 920.0),\n",
       "              ('laser_power', 40.0),\n",
       "              ('filename', 'm8487A_00014'),\n",
       "              ('behavior_filename', ''),\n",
       "              ('depth', 325),\n",
       "              ('scan_notes', ''),\n",
       "              ('site_number', 9),\n",
       "              ('software', 'scanimage'),\n",
       "              ('version', '5.1'),\n",
       "              ('scan_ts', datetime.datetime(2016, 2, 26, 21, 57, 31)),\n",
       "              ('rig', '2P3'),\n",
       "              ('session_date', datetime.date(2016, 2, 26)),\n",
       "              ('username', 'unknown'),\n",
       "              ('anesthesia', 'awake'),\n",
       "              ('pmt_filter_set', '2P3 red-green A'),\n",
       "              ('scan_path', '/scratch01/Two-Photon/Jake/160226'),\n",
       "              ('behavior_path', '/scratch01/WholeCell/jake/160226'),\n",
       "              ('craniotomy_notes', ''),\n",
       "              ('session_notes', 'Emx1/ZtTA/Ai93;;'),\n",
       "              ('session_ts', datetime.datetime(2016, 2, 26, 17, 19))]),\n",
       " OrderedDict([('animal_id', 9036),\n",
       "              ('session', 1),\n",
       "              ('scan_idx', 3),\n",
       "              ('lens', '25x'),\n",
       "              ('brain_area', 'unknown'),\n",
       "              ('laser_wavelength', 920.0),\n",
       "              ('laser_power', 35.0),\n",
       "              ('filename', 'm9036A_00003'),\n",
       "              ('behavior_filename', ''),\n",
       "              ('depth', 180),\n",
       "              ('scan_notes', 'V1? mad max and stills'),\n",
       "              ('site_number', 1),\n",
       "              ('software', 'scanimage'),\n",
       "              ('version', '5.1'),\n",
       "              ('scan_ts', datetime.datetime(2016, 5, 23, 17, 46, 39)),\n",
       "              ('rig', '2P3'),\n",
       "              ('session_date', datetime.date(2016, 5, 20)),\n",
       "              ('username', 'jake'),\n",
       "              ('anesthesia', 'awake'),\n",
       "              ('pmt_filter_set', '2P3 red-green A'),\n",
       "              ('scan_path', '/scratch03/Two-Photon/Jake/160520'),\n",
       "              ('behavior_path', '/scratch01/WholeCell/jake/150520'),\n",
       "              ('craniotomy_notes', ''),\n",
       "              ('session_notes', ';;dura removed, 2 wks after craniotomy'),\n",
       "              ('session_ts', datetime.datetime(2016, 5, 23, 17, 45, 21))])]"
      ]
     },
     "execution_count": 11,
     "metadata": {},
     "output_type": "execute_result"
    }
   ],
   "source": [
    "scans.fetch.as_dict()"
   ]
  },
  {
   "cell_type": "markdown",
   "metadata": {},
   "source": [
    "You can fetch just the desired attributes using the `fetch['attr1', ..., 'attrn']` notation:"
   ]
  },
  {
   "cell_type": "code",
   "execution_count": 12,
   "metadata": {
    "collapsed": true
   },
   "outputs": [],
   "source": [
    "d, i= scans.fetch['session_date', 'scan_idx']"
   ]
  },
  {
   "cell_type": "markdown",
   "metadata": {},
   "source": [
    "If you are curious, you may see the underlying SQL queries using the `make_sql` method:"
   ]
  },
  {
   "cell_type": "code",
   "execution_count": 13,
   "metadata": {
    "collapsed": false
   },
   "outputs": [
    {
     "data": {
      "text/plain": [
       "\"SELECT `animal_id`,`session`,`scan_idx`,`lens`,`brain_area`,`laser_wavelength`,`laser_power`,`filename`,`behavior_filename`,`depth`,`scan_notes`,`site_number`,`software`,`version`,`scan_ts`,`rig`,`session_date`,`username`,`anesthesia`,`pmt_filter_set`,`scan_path`,`behavior_path`,`craniotomy_notes`,`session_notes`,`session_ts` FROM `pipeline_experiment`.`scan` NATURAL JOIN `pipeline_experiment`.`session` WHERE ((`animal_id`,`session`) in (SELECT `animal_id`,`session` FROM `pipeline_experiment`.`session__fluorophore` WHERE (`fluorophore`='GCaMP6f')))\""
      ]
     },
     "execution_count": 13,
     "metadata": {},
     "output_type": "execute_result"
    }
   ],
   "source": [
    "scans.make_sql()"
   ]
  },
  {
   "cell_type": "markdown",
   "metadata": {},
   "source": [
    "Next: [pipeline_preprocess](pipeline_preprocess.ipynb)"
   ]
  }
 ],
 "metadata": {
  "kernelspec": {
   "display_name": "Python 3",
   "language": "python",
   "name": "python3"
  },
  "language_info": {
   "codemirror_mode": {
    "name": "ipython",
    "version": 3
   },
   "file_extension": ".py",
   "mimetype": "text/x-python",
   "name": "python",
   "nbconvert_exporter": "python",
   "pygments_lexer": "ipython3",
   "version": "3.5.0"
  }
 },
 "nbformat": 4,
 "nbformat_minor": 0
}
